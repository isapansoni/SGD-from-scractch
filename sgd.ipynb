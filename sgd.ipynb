{
 "cells": [
  {
   "cell_type": "markdown",
   "metadata": {},
   "source": [
    "# Implement SGD for Linear Regression"
   ]
  },
  {
   "cell_type": "code",
   "execution_count": 1,
   "metadata": {},
   "outputs": [],
   "source": [
    "import warnings\n",
    "warnings.filterwarnings('ignore')\n",
    "import numpy as np\n",
    "from sklearn.preprocessing import StandardScaler\n",
    "from sklearn.model_selection import train_test_split\n",
    "from sklearn.datasets import load_boston\n",
    "import pandas as pd\n",
    "boston=load_boston()"
   ]
  },
  {
   "cell_type": "code",
   "execution_count": 2,
   "metadata": {},
   "outputs": [],
   "source": [
    "# spliting the data \n",
    "\n",
    "pd_boston=pd.DataFrame(data=boston.data)\n",
    "price=boston.target\n",
    "train_data, test_data, train_y, test_y=train_test_split(pd_boston, price, test_size=0.33, random_state=5)"
   ]
  },
  {
   "cell_type": "code",
   "execution_count": 3,
   "metadata": {},
   "outputs": [],
   "source": [
    "# column standardization \n",
    "s=StandardScaler()\n",
    "train_data=s.fit_transform(np.array(train_data))\n",
    "test_data=s.transform(np.array(test_data))"
   ]
  },
  {
   "cell_type": "code",
   "execution_count": 4,
   "metadata": {},
   "outputs": [],
   "source": [
    "#preparing training data for manual sgd regressor\n",
    "manual_train=pd.DataFrame(data=train_data)\n",
    "manual_train['price']=train_y"
   ]
  },
  {
   "cell_type": "code",
   "execution_count": 5,
   "metadata": {},
   "outputs": [
    {
     "data": {
      "text/html": [
       "<div>\n",
       "<style scoped>\n",
       "    .dataframe tbody tr th:only-of-type {\n",
       "        vertical-align: middle;\n",
       "    }\n",
       "\n",
       "    .dataframe tbody tr th {\n",
       "        vertical-align: top;\n",
       "    }\n",
       "\n",
       "    .dataframe thead th {\n",
       "        text-align: right;\n",
       "    }\n",
       "</style>\n",
       "<table border=\"1\" class=\"dataframe\">\n",
       "  <thead>\n",
       "    <tr style=\"text-align: right;\">\n",
       "      <th></th>\n",
       "      <th>0</th>\n",
       "      <th>1</th>\n",
       "      <th>2</th>\n",
       "      <th>3</th>\n",
       "      <th>4</th>\n",
       "      <th>5</th>\n",
       "      <th>6</th>\n",
       "      <th>7</th>\n",
       "      <th>8</th>\n",
       "      <th>9</th>\n",
       "      <th>10</th>\n",
       "      <th>11</th>\n",
       "      <th>12</th>\n",
       "      <th>price</th>\n",
       "    </tr>\n",
       "  </thead>\n",
       "  <tbody>\n",
       "    <tr>\n",
       "      <th>0</th>\n",
       "      <td>0.911839</td>\n",
       "      <td>-0.502419</td>\n",
       "      <td>1.072305</td>\n",
       "      <td>-0.256978</td>\n",
       "      <td>1.633548</td>\n",
       "      <td>0.486034</td>\n",
       "      <td>0.962774</td>\n",
       "      <td>-0.823477</td>\n",
       "      <td>1.655334</td>\n",
       "      <td>1.552100</td>\n",
       "      <td>0.808078</td>\n",
       "      <td>-2.842959</td>\n",
       "      <td>1.523203</td>\n",
       "      <td>13.4</td>\n",
       "    </tr>\n",
       "    <tr>\n",
       "      <th>1</th>\n",
       "      <td>-0.411727</td>\n",
       "      <td>-0.502419</td>\n",
       "      <td>-1.129795</td>\n",
       "      <td>-0.256978</td>\n",
       "      <td>-0.552451</td>\n",
       "      <td>1.028078</td>\n",
       "      <td>0.668619</td>\n",
       "      <td>-0.183274</td>\n",
       "      <td>-0.871371</td>\n",
       "      <td>-0.802704</td>\n",
       "      <td>-0.304174</td>\n",
       "      <td>0.427436</td>\n",
       "      <td>-0.995240</td>\n",
       "      <td>23.6</td>\n",
       "    </tr>\n",
       "    <tr>\n",
       "      <th>2</th>\n",
       "      <td>0.124583</td>\n",
       "      <td>-0.502419</td>\n",
       "      <td>1.072305</td>\n",
       "      <td>-0.256978</td>\n",
       "      <td>1.441946</td>\n",
       "      <td>-3.913414</td>\n",
       "      <td>0.725324</td>\n",
       "      <td>-1.075955</td>\n",
       "      <td>1.655334</td>\n",
       "      <td>1.552100</td>\n",
       "      <td>0.808078</td>\n",
       "      <td>-0.053353</td>\n",
       "      <td>-0.765646</td>\n",
       "      <td>27.5</td>\n",
       "    </tr>\n",
       "  </tbody>\n",
       "</table>\n",
       "</div>"
      ],
      "text/plain": [
       "          0         1         2         3         4         5         6  \\\n",
       "0  0.911839 -0.502419  1.072305 -0.256978  1.633548  0.486034  0.962774   \n",
       "1 -0.411727 -0.502419 -1.129795 -0.256978 -0.552451  1.028078  0.668619   \n",
       "2  0.124583 -0.502419  1.072305 -0.256978  1.441946 -3.913414  0.725324   \n",
       "\n",
       "          7         8         9        10        11        12  price  \n",
       "0 -0.823477  1.655334  1.552100  0.808078 -2.842959  1.523203   13.4  \n",
       "1 -0.183274 -0.871371 -0.802704 -0.304174  0.427436 -0.995240   23.6  \n",
       "2 -1.075955  1.655334  1.552100  0.808078 -0.053353 -0.765646   27.5  "
      ]
     },
     "execution_count": 5,
     "metadata": {},
     "output_type": "execute_result"
    }
   ],
   "source": [
    "manual_train.head(3)"
   ]
  },
  {
   "cell_type": "code",
   "execution_count": 6,
   "metadata": {},
   "outputs": [],
   "source": [
    "# converting to numpy array, which will be available for both SGDRegressor of sklearn and manual sgd regressor\n",
    "test_data=np.array(test_data)\n",
    "test_y=np.array(test_y)"
   ]
  },
  {
   "cell_type": "markdown",
   "metadata": {},
   "source": [
    "#  SGDRegressor "
   ]
  },
  {
   "cell_type": "code",
   "execution_count": 7,
   "metadata": {},
   "outputs": [],
   "source": [
    "b_diff=[]\n",
    "w_num=[]"
   ]
  },
  {
   "cell_type": "code",
   "execution_count": 8,
   "metadata": {},
   "outputs": [],
   "source": [
    "import seaborn as sns\n",
    "import numpy as np\n",
    "from sklearn.linear_model import SGDRegressor\n",
    "from sklearn.metrics import mean_squared_error\n",
    "import matplotlib.pyplot as plt\n",
    "%matplotlib inline"
   ]
  },
  {
   "cell_type": "code",
   "execution_count": 9,
   "metadata": {},
   "outputs": [],
   "source": [
    "# \n",
    "def sklearn_sgd(alpha, eta0=0.01, power_t=0.25, n_iter=100, train_data=train_data, test_data=test_data, train_y=train_y, test_y=test_y):\n",
    "    clf=SGDRegressor(alpha=alpha, penalty=None, eta0=eta0, power_t=power_t, n_iter=n_iter)\n",
    "    clf.fit(train_data, train_y)\n",
    "    y_pred=clf.predict(test_data)\n",
    "    \n",
    "    #scatter plot\n",
    "    plt.scatter(test_y,y_pred)\n",
    "    plt.title('scatter plot between actual y and predicted y')\n",
    "    plt.xlabel('actual y')\n",
    "    plt.ylabel('predicted y')\n",
    "    plt.grid(b=True, linewidth=0.5)\n",
    "    plt.show()\n",
    "    print('***********************************************************')\n",
    "       \n",
    "    sgd_error=mean_squared_error(test_y,y_pred)\n",
    "    print('mean sqare error=', sgd_error)\n",
    "    print('number of iteration=', n_iter)\n",
    "    \n",
    "    return clf.coef_, clf.intercept_, sgd_error"
   ]
  },
  {
   "cell_type": "markdown",
   "metadata": {},
   "source": [
    "### 1.1 SGDRegressor, n_iter=1, lr_rate=0.01"
   ]
  },
  {
   "cell_type": "code",
   "execution_count": 10,
   "metadata": {},
   "outputs": [
    {
     "name": "stderr",
     "output_type": "stream",
     "text": [
      "/Users/sapan/anaconda3/lib/python3.6/site-packages/sklearn/linear_model/stochastic_gradient.py:130: DeprecationWarning: n_iter parameter is deprecated in 0.19 and will be removed in 0.21. Use max_iter and tol instead.\n",
      "  DeprecationWarning)\n"
     ]
    },
    {
     "data": {
      "image/png": "[encoded data removed]",
      "text/plain": [
       "<Figure size 432x288 with 1 Axes>"
      ]
     },
     "metadata": {
      "needs_background": "light"
     },
     "output_type": "display_data"
    },
    {
     "name": "stdout",
     "output_type": "stream",
     "text": [
      "***********************************************************\n",
      "mean sqare error= 104.10221490054883\n",
      "number of iteration= 1\n"
     ]
    }
   ],
   "source": [
    "w_sgd, b_sgd, error_sgd=sklearn_sgd(alpha=0.0001, eta0=0.01, n_iter=1)"
   ]
  },
  {
   "cell_type": "markdown",
   "metadata": {},
   "source": [
    "### manual sgd, n_iter=1, lr_rate=0.01,"
   ]
  },
  {
   "cell_type": "code",
   "execution_count": 32,
   "metadata": {},
   "outputs": [],
   "source": [
    "def manual_fit(X, alpha=0.0001, lr_rate=0.01, power_t=0.25, n_iter=100):\n",
    "    w_new=np.zeros(shape=(1,13))\n",
    "    b_new=0\n",
    "    t=1\n",
    "    r=lr_rate\n",
    "    \n",
    "    while(t<=n_iter):\n",
    "        w_old=w_new\n",
    "        b_old=b_new\n",
    "        w_=np.zeros(shape=(1,13))\n",
    "        b_=0\n",
    "        x_data=X.sample(10)\n",
    "        x=np.array(x_data.drop('price',axis=1))\n",
    "        y=np.array(x_data['price'])\n",
    "        \n",
    "        \n",
    "        for i in range(10):  # for getting the derivatives using sgd with k=10\n",
    "            y_curr=np.dot(w_old,x[i])+b_old\n",
    "            w_+=x[i] * (y[i] - y_curr)\n",
    "            b_+=(y[i]-y_curr)\n",
    "            \n",
    "            \n",
    "        w_*=(-2/x.shape[0])\n",
    "        b_*=(-2/x.shape[0])\n",
    "        \n",
    "        #updating the parameters\n",
    "        w_new=(w_old-r*w_)\n",
    "        b_new=(b_old-r*b_)\n",
    "        \n",
    "        t+=1\n",
    "        \n",
    "    return w_new, b_new\n",
    "\n",
    "\n",
    "\n",
    "def pred(x,w, b):\n",
    "    y_pred=[]\n",
    "    for i in range(len(x)):\n",
    "        y=np.asscalar(np.dot(w,x[i])+b)\n",
    "        y_pred.append(y)\n",
    "    return np.array(y_pred)\n",
    "\n",
    "\n",
    "def plot_(test_data,y_pred):\n",
    "    #scatter plot\n",
    "    plt.scatter(test_y,y_pred)\n",
    "    plt.grid(b=True, linewidth=0.3)\n",
    "    plt.title('scatter plot between actual y and predicted y')\n",
    "    plt.xlabel('actual y')\n",
    "    plt.ylabel('predicted y')\n",
    "    plt.show()\n",
    "    print('**************************************************************')\n",
    "    \n",
    "    manual_error=mean_squared_error(test_y,y_pred)\n",
    "    print('mean square error=',manual_error)\n",
    "    return manual_error"
   ]
  },
  {
   "cell_type": "code",
   "execution_count": 33,
   "metadata": {},
   "outputs": [],
   "source": [
    "w, b=manual_fit(X=manual_train, n_iter=1)"
   ]
  },
  {
   "cell_type": "code",
   "execution_count": 34,
   "metadata": {},
   "outputs": [],
   "source": [
    "y_pred=pred(test_data, w=w, b=b)"
   ]
  },
  {
   "cell_type": "code",
   "execution_count": 35,
   "metadata": {},
   "outputs": [
    {
     "data": {
      "image/png": "[encoded data removed]",
      "text/plain": [
       "<Figure size 432x288 with 1 Axes>"
      ]
     },
     "metadata": {
      "needs_background": "light"
     },
     "output_type": "display_data"
    },
    {
     "name": "stdout",
     "output_type": "stream",
     "text": [
      "**************************************************************\n",
      "mean square error= 582.8109111664287\n"
     ]
    }
   ],
   "source": [
    "manual_error=plot_(test_data,y_pred)"
   ]
  },
  {
   "cell_type": "code",
   "execution_count": 15,
   "metadata": {},
   "outputs": [
    {
     "name": "stdout",
     "output_type": "stream",
     "text": [
      "sklearn sgd weight---\n",
      " [-7.66318343e-01  4.05932953e-01 -7.69664649e-01  2.07291619e-03\n",
      " -5.49420612e-01  2.78734711e+00 -4.72758693e-01 -9.86250549e-01\n",
      "  4.93112659e-02 -7.30405791e-01 -1.81856458e+00  6.66392093e-01\n",
      " -2.22057941e+00]\n",
      "*********************************************************************************\n",
      "manual sgd weight---\n",
      " [[ 0.01773412 -0.02722097 -0.01226162 -0.08932558 -0.03987773  0.05896966\n",
      "  -0.01288296  0.0862911  -0.12271151 -0.07994501  0.26965425 -0.1876901\n",
      "  -0.11868032]]\n"
     ]
    }
   ],
   "source": [
    "print('sklearn sgd weight---\\n',w_sgd)\n",
    "print('*********************************************************************************')\n",
    "print('manual sgd weight---\\n',w)"
   ]
  },
  {
   "cell_type": "code",
   "execution_count": 16,
   "metadata": {},
   "outputs": [
    {
     "name": "stdout",
     "output_type": "stream",
     "text": [
      "number of points more than 30% in percent= 13\n"
     ]
    }
   ],
   "source": [
    "percent=abs((w_sgd-w)/w)*100\n",
    "cnt=0\n",
    "for i in range(13):\n",
    "    if (percent[0][i]>30):\n",
    "        cnt+=1\n",
    "w_num.append(cnt)\n",
    "print('number of points more than 30% in percent=',cnt)"
   ]
  },
  {
   "cell_type": "code",
   "execution_count": 17,
   "metadata": {},
   "outputs": [
    {
     "name": "stdout",
     "output_type": "stream",
     "text": [
      "sklearn sgd intercept= [14.7207589]\n",
      "manual sgd intercept= [0.3476]\n"
     ]
    }
   ],
   "source": [
    "print('sklearn sgd intercept=',b_sgd)\n",
    "print('manual sgd intercept=',b)\n",
    "b_diff.append(abs(b_sgd-b))"
   ]
  },
  {
   "cell_type": "markdown",
   "metadata": {},
   "source": [
    "###  SGDRegressor, n_iter=100, lr_rate=0.01"
   ]
  },
  {
   "cell_type": "code",
   "execution_count": 18,
   "metadata": {},
   "outputs": [
    {
     "name": "stderr",
     "output_type": "stream",
     "text": [
      "/Users/sapan/anaconda3/lib/python3.6/site-packages/sklearn/linear_model/stochastic_gradient.py:130: DeprecationWarning: n_iter parameter is deprecated in 0.19 and will be removed in 0.21. Use max_iter and tol instead.\n",
      "  DeprecationWarning)\n"
     ]
    },
    {
     "data": {
      "image/png": "[encoded data removed]",
      "text/plain": [
       "<Figure size 432x288 with 1 Axes>"
      ]
     },
     "metadata": {
      "needs_background": "light"
     },
     "output_type": "display_data"
    },
    {
     "name": "stdout",
     "output_type": "stream",
     "text": [
      "***********************************************************\n",
      "mean sqare error= 28.18149548211394\n",
      "number of iteration= 100\n"
     ]
    }
   ],
   "source": [
    "w_sgd, b_sgd, error_sgd=sklearn_sgd(alpha=0.0001, eta0=0.01, n_iter=100)"
   ]
  },
  {
   "cell_type": "markdown",
   "metadata": {},
   "source": [
    "### manual sgd, n_iter=100, lr_rate=0.01"
   ]
  },
  {
   "cell_type": "code",
   "execution_count": 19,
   "metadata": {},
   "outputs": [
    {
     "data": {
      "image/png": "[encoded data removed]",
      "text/plain": [
       "<Figure size 432x288 with 1 Axes>"
      ]
     },
     "metadata": {
      "needs_background": "light"
     },
     "output_type": "display_data"
    },
    {
     "name": "stdout",
     "output_type": "stream",
     "text": [
      "**************************************************************\n",
      "mean square error= 41.97610741539215\n"
     ]
    }
   ],
   "source": [
    "w, b=manual_fit(X=manual_train, n_iter=100)\n",
    "y_pred=pred(test_data, w=w, b=b)\n",
    "manual_error=plot_(test_data,y_pred)"
   ]
  },
  {
   "cell_type": "code",
   "execution_count": 20,
   "metadata": {},
   "outputs": [
    {
     "name": "stdout",
     "output_type": "stream",
     "text": [
      "sklearn sgd weight---\n",
      " [-1.27113571  0.81578094 -0.24405498  0.21527108 -1.44930572  2.79318682\n",
      " -0.32069781 -2.8184657   2.65640108 -1.86890373 -2.11199902  1.04081853\n",
      " -3.30890874]\n",
      "*********************************************************************************\n",
      "manual sgd weight---\n",
      " [[-1.05686217  0.26764337 -0.85985368  0.24439886 -0.2956493   2.56474872\n",
      "  -0.1298021  -1.69853492  0.41957586 -0.09327634 -2.36953134  0.29377063\n",
      "  -3.49531106]]\n"
     ]
    }
   ],
   "source": [
    "print('sklearn sgd weight---\\n',w_sgd)\n",
    "print('*********************************************************************************')\n",
    "print('manual sgd weight---\\n',w)"
   ]
  },
  {
   "cell_type": "code",
   "execution_count": 21,
   "metadata": {},
   "outputs": [
    {
     "name": "stdout",
     "output_type": "stream",
     "text": [
      "number of points more than 30% in percent= 8\n"
     ]
    }
   ],
   "source": [
    "percent=abs((w_sgd-w)/w)*100\n",
    "cnt=0\n",
    "for i in range(13):\n",
    "    if (percent[0][i]>30):\n",
    "        cnt+=1\n",
    "w_num.append(cnt)\n",
    "print('number of points more than 30% in percent=',cnt)"
   ]
  },
  {
   "cell_type": "code",
   "execution_count": 22,
   "metadata": {},
   "outputs": [
    {
     "name": "stdout",
     "output_type": "stream",
     "text": [
      "sklearn sgd intercept= [22.53967368]\n",
      "manual sgd intercept= [19.58874297]\n"
     ]
    }
   ],
   "source": [
    "print('sklearn sgd intercept=',b_sgd)\n",
    "print('manual sgd intercept=',b)\n",
    "b_diff.append(abs(b_sgd-b))"
   ]
  },
  {
   "cell_type": "markdown",
   "metadata": {},
   "source": [
    "### 1.5 SGDRegressor, n_iter=1000, lr_rate=0.01, lr_rate_variation='constant'"
   ]
  },
  {
   "cell_type": "code",
   "execution_count": 23,
   "metadata": {},
   "outputs": [
    {
     "name": "stderr",
     "output_type": "stream",
     "text": [
      "/Users/sapan/anaconda3/lib/python3.6/site-packages/sklearn/linear_model/stochastic_gradient.py:130: DeprecationWarning: n_iter parameter is deprecated in 0.19 and will be removed in 0.21. Use max_iter and tol instead.\n",
      "  DeprecationWarning)\n"
     ]
    },
    {
     "data": {
      "image/png": "[encoded data removed]",
      "text/plain": [
       "<Figure size 432x288 with 1 Axes>"
      ]
     },
     "metadata": {
      "needs_background": "light"
     },
     "output_type": "display_data"
    },
    {
     "name": "stdout",
     "output_type": "stream",
     "text": [
      "***********************************************************\n",
      "mean sqare error= 28.589901928312848\n",
      "number of iteration= 1000\n"
     ]
    }
   ],
   "source": [
    "w_sgd, b_sgd, error_sgd=sklearn_sgd(alpha=0.0001, eta0=0.01, n_iter=1000)"
   ]
  },
  {
   "cell_type": "markdown",
   "metadata": {},
   "source": [
    "### manual sgd, n_iter=1000, lr_rate=0.01"
   ]
  },
  {
   "cell_type": "code",
   "execution_count": 24,
   "metadata": {},
   "outputs": [
    {
     "data": {
      "image/png": "[encoded data removed]",
      "text/plain": [
       "<Figure size 432x288 with 1 Axes>"
      ]
     },
     "metadata": {
      "needs_background": "light"
     },
     "output_type": "display_data"
    },
    {
     "name": "stdout",
     "output_type": "stream",
     "text": [
      "**************************************************************\n",
      "mean square error= 28.757739043487707\n"
     ]
    }
   ],
   "source": [
    "w, b=manual_fit(X=manual_train, n_iter=1000)\n",
    "y_pred=pred(test_data, w=w, b=b)\n",
    "manual_error=plot_(test_data,y_pred)"
   ]
  },
  {
   "cell_type": "code",
   "execution_count": 25,
   "metadata": {},
   "outputs": [
    {
     "name": "stdout",
     "output_type": "stream",
     "text": [
      "sklearn sgd weight---\n",
      " [-1.31568811  0.86589411 -0.17221357  0.19208703 -1.49681919  2.79470617\n",
      " -0.33018959 -2.76831413  2.97090847 -2.27962962 -2.13692225  1.0644306\n",
      " -3.34106126]\n",
      "*********************************************************************************\n",
      "manual sgd weight---\n",
      " [[-1.34046     0.66185151 -0.35108265  0.40110589 -0.97021866  2.56987003\n",
      "  -0.48377165 -2.79618973  2.08957349 -1.38788024 -2.3997573   1.14335436\n",
      "  -3.40575773]]\n"
     ]
    }
   ],
   "source": [
    "print('sklearn sgd weight---\\n',w_sgd)\n",
    "print('*********************************************************************************')\n",
    "print('manual sgd weight---\\n',w)"
   ]
  },
  {
   "cell_type": "code",
   "execution_count": 26,
   "metadata": {},
   "outputs": [
    {
     "name": "stdout",
     "output_type": "stream",
     "text": [
      "number of points more than 30% in percent= 7\n"
     ]
    }
   ],
   "source": [
    "percent=abs((w_sgd-w)/w)*100\n",
    "cnt=0\n",
    "for i in range(13):\n",
    "    if (percent[0][i]>30):\n",
    "        cnt+=1\n",
    "w_num.append(cnt)\n",
    "print('number of points more than 30% in percent=',cnt)"
   ]
  },
  {
   "cell_type": "code",
   "execution_count": 28,
   "metadata": {},
   "outputs": [
    {
     "name": "stdout",
     "output_type": "stream",
     "text": [
      "sklearn sgd loss= [22.53797378]\n",
      "manual sgd loss= [22.48647406]\n"
     ]
    }
   ],
   "source": [
    "print('sklearn sgd loss=',b_sgd)\n",
    "print('manual sgd loss=',b)\n",
    "b_diff.append(abs(b_sgd-b))"
   ]
  },
  {
   "cell_type": "markdown",
   "metadata": {},
   "source": [
    "##### observation\n",
    "With high no of iteration , manual sgd performs almost same as SGDRegressor"
   ]
  },
  {
   "cell_type": "markdown",
   "metadata": {},
   "source": [
    "## Conclusion\n",
    "* we have taken 'constant' learning rate variation in SGDRegressor and the same in manual sgd regressor\n",
    "* we can  seen that with higher number of iteration , manual sgd seems similar to SGDRegressor \n",
    "* in manual sgd regressor , error reduces with increasing in iteration number"
   ]
  },
  {
   "cell_type": "code",
   "execution_count": null,
   "metadata": {},
   "outputs": [],
   "source": []
  }
 ],
 "metadata": {
  "kernelspec": {
   "display_name": "Python 3",
   "language": "python",
   "name": "python3"
  },
  "language_info": {
   "codemirror_mode": {
    "name": "ipython",
    "version": 3
   },
   "file_extension": ".py",
   "mimetype": "text/x-python",
   "name": "python",
   "nbconvert_exporter": "python",
   "pygments_lexer": "ipython3",
   "version": "3.6.6"
  }
 },
 "nbformat": 4,
 "nbformat_minor": 2
}
